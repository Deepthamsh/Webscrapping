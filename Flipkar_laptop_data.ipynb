{
  "nbformat": 4,
  "nbformat_minor": 0,
  "metadata": {
    "colab": {
      "provenance": [],
      "toc_visible": true,
      "authorship_tag": "ABX9TyN0DYx6y7lK9OCLUk87MIob",
      "include_colab_link": true
    },
    "kernelspec": {
      "name": "python3",
      "display_name": "Python 3"
    },
    "language_info": {
      "name": "python"
    }
  },
  "cells": [
    {
      "cell_type": "markdown",
      "metadata": {
        "id": "view-in-github",
        "colab_type": "text"
      },
      "source": [
        "<a href=\"https://colab.research.google.com/github/Deepthamsh/Webscrapping/blob/main/Flipkar_laptop_data.ipynb\" target=\"_parent\"><img src=\"https://colab.research.google.com/assets/colab-badge.svg\" alt=\"Open In Colab\"/></a>"
      ]
    },
    {
      "cell_type": "code",
      "execution_count": 7,
      "metadata": {
        "id": "BiI8QSp4Lw0h"
      },
      "outputs": [],
      "source": [
        "import requests\n",
        "from bs4 import BeautifulSoup\n",
        "url=\"https://www.flipkart.com/laptops-store?otracker=nmenu_sub_Electronics_0_Laptops\"\n",
        "page=requests.get(url)\n",
        "soup=BeautifulSoup(page.content,'html.parser')\n",
        "\n",
        "#for name of the product and image link\n",
        "img1=[]\n",
        "name=[]\n",
        "image=soup.findAll('div', class_=\"CXW8mj\")\n",
        "for i in image:\n",
        "  j=i.img[\"src\"]\n",
        "  k=i.img['alt']\n",
        "  img1.append(j)\n",
        "  name.append(k)\n",
        "\n",
        "#for price, review and rating \n",
        "prc=soup.find('div',class_=\"_30jeq3\")\n",
        "rating=soup.find('div',class_='_3LWZlK')\n",
        "reviews=soup.find('span',class_='_2_R_DZ')\n",
        "nam=soup.find('a',class_=\"s1Q9rs\")\n",
        "\n",
        "price=[]\n",
        "ratings=[]\n",
        "review=[]\n",
        "name=[]\n",
        "for data in soup.findAll('div',class_=\"_2n7i6c\"):\n",
        "  prc=data.find('div',attrs={'class':\"_30jeq3\"})\n",
        "  rating=data.find('div',attrs={'class':'_3LWZlK'})\n",
        "  reviews=data.find('span',attrs={'class':'_2_R_DZ'})\n",
        "  nam=data.find('a',attrs={'class':'s1Q9rs'})\n",
        "  price.append(prc.text)\n",
        "  ratings.append(rating.text)\n",
        "  review.append(reviews.text)\n",
        "  name.append(nam.text)\n",
        "\n",
        "\n",
        "#loading data into csv file\n",
        "import pandas as pd\n",
        "fliplap=pd.DataFrame({'laptop_name':name, 'product_price':price,'ratings':ratings,'reviews':review})\n",
        "fliplap.head(25)\n",
        "\n",
        "\n",
        "\n",
        "\n"
      ]
    }
  ]
}